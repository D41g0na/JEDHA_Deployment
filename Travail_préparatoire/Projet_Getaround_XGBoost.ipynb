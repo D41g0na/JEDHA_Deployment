{
 "cells": [
  {
   "cell_type": "code",
   "execution_count": 22,
   "metadata": {},
   "outputs": [],
   "source": [
    "import pandas as pd\n",
    "import numpy as np\n",
    "from sklearn.model_selection import train_test_split\n",
    "from sklearn.pipeline import Pipeline\n",
    "from sklearn.impute import SimpleImputer\n",
    "from sklearn.preprocessing import  OneHotEncoder, StandardScaler \n",
    "from sklearn.compose import ColumnTransformer\n",
    "\n",
    "from sklearn.metrics import r2_score, mean_squared_error\n",
    "from sklearn.linear_model import Ridge, Lasso\n",
    "from sklearn.model_selection import cross_val_score, GridSearchCV, RandomizedSearchCV\n",
    "from xgboost import XGBRegressor\n",
    "\n",
    "import joblib"
   ]
  },
  {
   "cell_type": "code",
   "execution_count": 23,
   "metadata": {},
   "outputs": [
    {
     "data": {
      "text/html": [
       "<div>\n",
       "<style scoped>\n",
       "    .dataframe tbody tr th:only-of-type {\n",
       "        vertical-align: middle;\n",
       "    }\n",
       "\n",
       "    .dataframe tbody tr th {\n",
       "        vertical-align: top;\n",
       "    }\n",
       "\n",
       "    .dataframe thead th {\n",
       "        text-align: right;\n",
       "    }\n",
       "</style>\n",
       "<table border=\"1\" class=\"dataframe\">\n",
       "  <thead>\n",
       "    <tr style=\"text-align: right;\">\n",
       "      <th></th>\n",
       "      <th>model_key</th>\n",
       "      <th>mileage</th>\n",
       "      <th>engine_power</th>\n",
       "      <th>fuel</th>\n",
       "      <th>paint_color</th>\n",
       "      <th>car_type</th>\n",
       "      <th>private_parking_available</th>\n",
       "      <th>has_gps</th>\n",
       "      <th>has_air_conditioning</th>\n",
       "      <th>automatic_car</th>\n",
       "      <th>has_getaround_connect</th>\n",
       "      <th>has_speed_regulator</th>\n",
       "      <th>winter_tires</th>\n",
       "      <th>rental_price_per_day</th>\n",
       "    </tr>\n",
       "  </thead>\n",
       "  <tbody>\n",
       "    <tr>\n",
       "      <th>0</th>\n",
       "      <td>Peugeot</td>\n",
       "      <td>162021</td>\n",
       "      <td>90</td>\n",
       "      <td>diesel</td>\n",
       "      <td>black</td>\n",
       "      <td>estate</td>\n",
       "      <td>False</td>\n",
       "      <td>False</td>\n",
       "      <td>False</td>\n",
       "      <td>False</td>\n",
       "      <td>False</td>\n",
       "      <td>False</td>\n",
       "      <td>True</td>\n",
       "      <td>62</td>\n",
       "    </tr>\n",
       "    <tr>\n",
       "      <th>1</th>\n",
       "      <td>Audi</td>\n",
       "      <td>153074</td>\n",
       "      <td>160</td>\n",
       "      <td>diesel</td>\n",
       "      <td>black</td>\n",
       "      <td>sedan</td>\n",
       "      <td>False</td>\n",
       "      <td>True</td>\n",
       "      <td>False</td>\n",
       "      <td>False</td>\n",
       "      <td>False</td>\n",
       "      <td>False</td>\n",
       "      <td>True</td>\n",
       "      <td>120</td>\n",
       "    </tr>\n",
       "    <tr>\n",
       "      <th>2</th>\n",
       "      <td>Peugeot</td>\n",
       "      <td>145497</td>\n",
       "      <td>235</td>\n",
       "      <td>petrol</td>\n",
       "      <td>black</td>\n",
       "      <td>hatchback</td>\n",
       "      <td>True</td>\n",
       "      <td>True</td>\n",
       "      <td>True</td>\n",
       "      <td>True</td>\n",
       "      <td>True</td>\n",
       "      <td>True</td>\n",
       "      <td>True</td>\n",
       "      <td>147</td>\n",
       "    </tr>\n",
       "    <tr>\n",
       "      <th>3</th>\n",
       "      <td>Peugeot</td>\n",
       "      <td>60772</td>\n",
       "      <td>100</td>\n",
       "      <td>diesel</td>\n",
       "      <td>grey</td>\n",
       "      <td>estate</td>\n",
       "      <td>True</td>\n",
       "      <td>True</td>\n",
       "      <td>False</td>\n",
       "      <td>False</td>\n",
       "      <td>False</td>\n",
       "      <td>False</td>\n",
       "      <td>True</td>\n",
       "      <td>115</td>\n",
       "    </tr>\n",
       "    <tr>\n",
       "      <th>4</th>\n",
       "      <td>Peugeot</td>\n",
       "      <td>148429</td>\n",
       "      <td>100</td>\n",
       "      <td>diesel</td>\n",
       "      <td>silver</td>\n",
       "      <td>estate</td>\n",
       "      <td>False</td>\n",
       "      <td>True</td>\n",
       "      <td>False</td>\n",
       "      <td>False</td>\n",
       "      <td>False</td>\n",
       "      <td>True</td>\n",
       "      <td>True</td>\n",
       "      <td>102</td>\n",
       "    </tr>\n",
       "  </tbody>\n",
       "</table>\n",
       "</div>"
      ],
      "text/plain": [
       "  model_key  mileage  engine_power    fuel paint_color   car_type  \\\n",
       "0   Peugeot   162021            90  diesel       black     estate   \n",
       "1      Audi   153074           160  diesel       black      sedan   \n",
       "2   Peugeot   145497           235  petrol       black  hatchback   \n",
       "3   Peugeot    60772           100  diesel        grey     estate   \n",
       "4   Peugeot   148429           100  diesel      silver     estate   \n",
       "\n",
       "   private_parking_available  has_gps  has_air_conditioning  automatic_car  \\\n",
       "0                      False    False                 False          False   \n",
       "1                      False     True                 False          False   \n",
       "2                       True     True                  True           True   \n",
       "3                       True     True                 False          False   \n",
       "4                      False     True                 False          False   \n",
       "\n",
       "   has_getaround_connect  has_speed_regulator  winter_tires  \\\n",
       "0                  False                False          True   \n",
       "1                  False                False          True   \n",
       "2                   True                 True          True   \n",
       "3                  False                False          True   \n",
       "4                  False                 True          True   \n",
       "\n",
       "   rental_price_per_day  \n",
       "0                    62  \n",
       "1                   120  \n",
       "2                   147  \n",
       "3                   115  \n",
       "4                   102  "
      ]
     },
     "execution_count": 23,
     "metadata": {},
     "output_type": "execute_result"
    }
   ],
   "source": [
    "df= pd.read_csv('train_dataset.csv')\n",
    "df.head()"
   ]
  },
  {
   "cell_type": "code",
   "execution_count": 24,
   "metadata": {},
   "outputs": [
    {
     "name": "stdout",
     "output_type": "stream",
     "text": [
      "Separating labels from features...\n",
      "...Done.\n",
      "0     62\n",
      "1    120\n",
      "2    147\n",
      "3    115\n",
      "4    102\n",
      "Name: rental_price_per_day, dtype: int64\n",
      "\n",
      "  model_key  mileage  engine_power    fuel paint_color   car_type  \\\n",
      "0   Peugeot   162021            90  diesel       black     estate   \n",
      "1      Audi   153074           160  diesel       black      sedan   \n",
      "2   Peugeot   145497           235  petrol       black  hatchback   \n",
      "3   Peugeot    60772           100  diesel        grey     estate   \n",
      "4   Peugeot   148429           100  diesel      silver     estate   \n",
      "\n",
      "   private_parking_available  has_gps  has_air_conditioning  automatic_car  \\\n",
      "0                      False    False                 False          False   \n",
      "1                      False     True                 False          False   \n",
      "2                       True     True                  True           True   \n",
      "3                       True     True                 False          False   \n",
      "4                      False     True                 False          False   \n",
      "\n",
      "   has_getaround_connect  has_speed_regulator  winter_tires  \n",
      "0                  False                False          True  \n",
      "1                  False                False          True  \n",
      "2                   True                 True          True  \n",
      "3                  False                False          True  \n",
      "4                  False                 True          True  \n",
      "\n"
     ]
    }
   ],
   "source": [
    "# Separate target variable Y from features X\n",
    "target_name = 'rental_price_per_day'\n",
    "\n",
    "print(\"Separating labels from features...\")\n",
    "Y = df.loc[:,target_name]\n",
    "X = df.drop(target_name, axis = 1) # All columns are kept, except the target\n",
    "print(\"...Done.\")\n",
    "print(Y.head())\n",
    "print()\n",
    "print(X.head())\n",
    "print()"
   ]
  },
  {
   "cell_type": "code",
   "execution_count": 25,
   "metadata": {},
   "outputs": [
    {
     "name": "stdout",
     "output_type": "stream",
     "text": [
      "Found numeric features  ['mileage', 'engine_power']\n",
      "Found categorical features  ['model_key', 'fuel', 'paint_color', 'car_type', 'private_parking_available', 'has_gps', 'has_air_conditioning', 'automatic_car', 'has_getaround_connect', 'has_speed_regulator', 'winter_tires']\n"
     ]
    }
   ],
   "source": [
    "numeric_features = []\n",
    "categorical_features = []\n",
    "for i,t in X.dtypes.items():\n",
    "    if ('float' in str(t)) or ('int' in str(t)) :\n",
    "        numeric_features.append(i)\n",
    "    else :\n",
    "        categorical_features.append(i)\n",
    "\n",
    "print('Found numeric features ', numeric_features)\n",
    "print('Found categorical features ', categorical_features)"
   ]
  },
  {
   "cell_type": "code",
   "execution_count": 26,
   "metadata": {},
   "outputs": [
    {
     "name": "stdout",
     "output_type": "stream",
     "text": [
      "Dividing into train and test sets...\n",
      "...Done.\n",
      "\n"
     ]
    }
   ],
   "source": [
    "print(\"Dividing into train and test sets...\")\n",
    "X_train, X_test, Y_train, Y_test = train_test_split(X, Y, test_size=0.2, random_state=42)\n",
    "print(\"...Done.\")\n",
    "print()"
   ]
  },
  {
   "cell_type": "code",
   "execution_count": 27,
   "metadata": {},
   "outputs": [
    {
     "name": "stdout",
     "output_type": "stream",
     "text": [
      "Performing preprocessings on train set...\n",
      "       model_key  mileage  engine_power    fuel paint_color   car_type  \\\n",
      "691          BMW   101583            85  diesel       black  hatchback   \n",
      "2183     Citroën   150355           120  diesel       black      sedan   \n",
      "416      Citroën    90797           135  diesel        blue      sedan   \n",
      "1226     Renault   163318            85  diesel        blue     estate   \n",
      "217   Volkswagen   109779           100  diesel        grey  hatchback   \n",
      "\n",
      "      private_parking_available  has_gps  has_air_conditioning  automatic_car  \\\n",
      "691                       False    False                 False          False   \n",
      "2183                      False     True                 False          False   \n",
      "416                       False    False                 False          False   \n",
      "1226                       True     True                 False          False   \n",
      "217                        True     True                 False          False   \n",
      "\n",
      "      has_getaround_connect  has_speed_regulator  winter_tires  \n",
      "691                   False                 True          True  \n",
      "2183                  False                 True          True  \n",
      "416                   False                False          True  \n",
      "1226                  False                False          True  \n",
      "217                    True                False          True  \n",
      "...Done.\n",
      "  (0, 0)\t-0.6515125283677188\n",
      "  (0, 1)\t-1.1353149609640463\n",
      "  (0, 3)\t1.0\n",
      "  (0, 32)\t1.0\n",
      "  (0, 43)\t1.0\n",
      "  (0, 53)\t1.0\n",
      "  (0, 54)\t1.0\n",
      "  (1, 0)\t0.16665482817603175\n",
      "  (1, 1)\t-0.2171948837148943\n",
      "  (1, 4)\t1.0\n",
      "  (1, 32)\t1.0\n",
      "  (1, 44)\t1.0\n",
      "  (1, 49)\t1.0\n",
      "  (1, 53)\t1.0\n",
      "  (1, 54)\t1.0\n",
      "  (2, 0)\t-0.832451450447619\n",
      "  (2, 1)\t0.17628514939188514\n",
      "  (2, 4)\t1.0\n",
      "  (2, 33)\t1.0\n",
      "  (2, 44)\t1.0\n",
      "  (2, 54)\t1.0\n",
      "  (3, 0)\t0.38411368659636796\n",
      "  (3, 1)\t-1.1353149609640463\n",
      "  (3, 22)\t1.0\n",
      "  (3, 33)\t1.0\n",
      "  (3, 42)\t1.0\n",
      "  (3, 48)\t1.0\n",
      "  (3, 49)\t1.0\n",
      "  (3, 54)\t1.0\n",
      "  (4, 0)\t-0.5140217620626139\n",
      "  (4, 1)\t-0.7418349278572669\n",
      "  (4, 27)\t1.0\n",
      "  (4, 36)\t1.0\n",
      "  (4, 43)\t1.0\n",
      "  (4, 48)\t1.0\n",
      "  (4, 49)\t1.0\n",
      "  (4, 52)\t1.0\n",
      "  (4, 54)\t1.0\n",
      "\n",
      "Performing preprocessings on test set...\n",
      "     model_key  mileage  engine_power    fuel paint_color car_type  \\\n",
      "3680       BMW   120395           140  diesel       black      suv   \n",
      "3746   Renault   300178           120  diesel       white   estate   \n",
      "2289    Nissan   145781            85  diesel        blue      suv   \n",
      "2500      Audi   174311           190  diesel        grey   estate   \n",
      "2240   Citroën   155503           135  diesel        blue   estate   \n",
      "\n",
      "      private_parking_available  has_gps  has_air_conditioning  automatic_car  \\\n",
      "3680                       True     True                  True           True   \n",
      "3746                       True     True                 False          False   \n",
      "2289                      False     True                 False          False   \n",
      "2500                       True     True                  True           True   \n",
      "2240                      False     True                 False          False   \n",
      "\n",
      "      has_getaround_connect  has_speed_regulator  winter_tires  \n",
      "3680                  False                 True          True  \n",
      "3746                   True                False          True  \n",
      "2289                  False                False          True  \n",
      "2500                   True                False          True  \n",
      "2240                  False                False          True  \n",
      "...Done.\n",
      "  (0, 0)\t-0.3359346494351133\n",
      "  (0, 1)\t0.30744516042747827\n",
      "  (0, 3)\t1.0\n",
      "  (0, 32)\t1.0\n",
      "  (0, 46)\t1.0\n",
      "  (0, 48)\t1.0\n",
      "  (0, 49)\t1.0\n",
      "  (0, 50)\t1.0\n",
      "  (0, 51)\t1.0\n",
      "  (0, 53)\t1.0\n",
      "  (0, 54)\t1.0\n",
      "  (1, 0)\t2.679988049275317\n",
      "  (1, 1)\t-0.2171948837148943\n",
      "  (1, 22)\t1.0\n",
      "  (1, 40)\t1.0\n",
      "  (1, 42)\t1.0\n",
      "  (1, 48)\t1.0\n",
      "  (1, 49)\t1.0\n",
      "  (1, 52)\t1.0\n",
      "  (1, 54)\t1.0\n",
      "  (2, 0)\t0.08992437855676015\n",
      "  (2, 1)\t-1.1353149609640463\n",
      "  (2, 17)\t1.0\n",
      "  (2, 33)\t1.0\n",
      "  (2, 46)\t1.0\n",
      "  (2, 49)\t1.0\n",
      "  (2, 54)\t1.0\n",
      "  (3, 0)\t0.5685251060683079\n",
      "  (3, 1)\t1.6190452707834098\n",
      "  (3, 2)\t1.0\n",
      "  (3, 36)\t1.0\n",
      "  (3, 42)\t1.0\n",
      "  (3, 48)\t1.0\n",
      "  (3, 49)\t1.0\n",
      "  (3, 50)\t1.0\n",
      "  (3, 51)\t1.0\n",
      "  (3, 52)\t1.0\n",
      "  (3, 54)\t1.0\n",
      "  (4, 0)\t0.25301432853458233\n",
      "  (4, 1)\t0.17628514939188514\n",
      "  (4, 4)\t1.0\n",
      "  (4, 33)\t1.0\n",
      "  (4, 42)\t1.0\n",
      "  (4, 49)\t1.0\n",
      "  (4, 54)\t1.0\n",
      "\n"
     ]
    }
   ],
   "source": [
    "# Create pipeline for numeric features\n",
    "numeric_transformer = Pipeline(steps=[('scaler', StandardScaler())])\n",
    "\n",
    "# Create pipeline for categorical features\n",
    "categorical_transformer = Pipeline(\n",
    "    steps=[('encoder', OneHotEncoder(drop='first'))])\n",
    "\n",
    "# Use ColumnTransformer to make a preprocessor object that describes all the treatments to be done\n",
    "preprocessor = ColumnTransformer(\n",
    "    transformers=[\n",
    "        ('num', numeric_transformer, numeric_features),\n",
    "        ('cat', categorical_transformer, categorical_features)\n",
    "    ])\n",
    "\n",
    "# Preprocessings on train set\n",
    "print(\"Performing preprocessings on train set...\")\n",
    "print(X_train.head())\n",
    "X_train = preprocessor.fit_transform(X_train)\n",
    "print('...Done.')\n",
    "print(X_train[0:5]) \n",
    "print()\n",
    "\n",
    "# Preprocessings on test set\n",
    "print(\"Performing preprocessings on test set...\")\n",
    "print(X_test.head()) \n",
    "X_test = preprocessor.transform(X_test)\n",
    "print('...Done.')\n",
    "print(X_test[0:5,:]) \n",
    "print()"
   ]
  },
  {
   "cell_type": "code",
   "execution_count": 28,
   "metadata": {},
   "outputs": [
    {
     "data": {
      "text/plain": [
       "['preprocessor.joblib']"
      ]
     },
     "execution_count": 28,
     "metadata": {},
     "output_type": "execute_result"
    }
   ],
   "source": [
    "#joblib.dump(preprocessor, 'preprocessor.joblib')"
   ]
  },
  {
   "cell_type": "code",
   "execution_count": 29,
   "metadata": {},
   "outputs": [
    {
     "name": "stdout",
     "output_type": "stream",
     "text": [
      "Train model...\n"
     ]
    },
    {
     "name": "stderr",
     "output_type": "stream",
     "text": [
      "d:\\Programme_D\\Miniconda\\envs\\Daigona\\Lib\\site-packages\\xgboost\\data.py:427: FutureWarning: is_sparse is deprecated and will be removed in a future version. Check `isinstance(dtype, pd.SparseDtype)` instead.\n",
      "  if is_sparse(data):\n"
     ]
    },
    {
     "name": "stdout",
     "output_type": "stream",
     "text": [
      "...Done.\n"
     ]
    }
   ],
   "source": [
    "print(\"Train model...\")\n",
    "model = XGBRegressor()\n",
    "model.fit(X_train, Y_train)\n",
    "print(\"...Done.\")\n",
    "\n",
    "Y_train_pred = model.predict(X_train)\n",
    "Y_test_pred = model.predict(X_test)"
   ]
  },
  {
   "cell_type": "code",
   "execution_count": 30,
   "metadata": {},
   "outputs": [
    {
     "name": "stdout",
     "output_type": "stream",
     "text": [
      "R2 score on training set :  0.9572249450857621\n",
      "R2 score on test set :  0.7632108037253089\n"
     ]
    }
   ],
   "source": [
    "# Print R^2 scores, quand on a fait une prédiction\n",
    "print(\"R2 score on training set : \", r2_score(Y_train, Y_train_pred))\n",
    "print(\"R2 score on test set : \", r2_score(Y_test, Y_test_pred))"
   ]
  },
  {
   "cell_type": "code",
   "execution_count": 31,
   "metadata": {},
   "outputs": [
    {
     "name": "stdout",
     "output_type": "stream",
     "text": [
      "RMSE: 15.901262808774769\n"
     ]
    }
   ],
   "source": [
    "mse = mean_squared_error(Y_test, Y_test_pred)\n",
    "# Calculez la RMSE en prenant la racine carrée du MSE\n",
    "rmse = np.sqrt(mse)\n",
    "\n",
    "print(\"RMSE:\", rmse)"
   ]
  },
  {
   "cell_type": "markdown",
   "metadata": {},
   "source": [
    "Gridsearch"
   ]
  },
  {
   "cell_type": "code",
   "execution_count": 32,
   "metadata": {},
   "outputs": [
    {
     "name": "stdout",
     "output_type": "stream",
     "text": [
      "Grid search...\n",
      "{'max_depth': [2, 4, 6], 'learning_rate': [0.1, 0.01, 0.001], 'n_estimators': [100, 200, 300]}\n"
     ]
    },
    {
     "name": "stderr",
     "output_type": "stream",
     "text": [
      "d:\\Programme_D\\Miniconda\\envs\\Daigona\\Lib\\site-packages\\xgboost\\data.py:427: FutureWarning: is_sparse is deprecated and will be removed in a future version. Check `isinstance(dtype, pd.SparseDtype)` instead.\n",
      "  if is_sparse(data):\n"
     ]
    },
    {
     "name": "stderr",
     "output_type": "stream",
     "text": [
      "d:\\Programme_D\\Miniconda\\envs\\Daigona\\Lib\\site-packages\\xgboost\\data.py:427: FutureWarning: is_sparse is deprecated and will be removed in a future version. Check `isinstance(dtype, pd.SparseDtype)` instead.\n",
      "  if is_sparse(data):\n",
      "d:\\Programme_D\\Miniconda\\envs\\Daigona\\Lib\\site-packages\\xgboost\\data.py:427: FutureWarning: is_sparse is deprecated and will be removed in a future version. Check `isinstance(dtype, pd.SparseDtype)` instead.\n",
      "  if is_sparse(data):\n",
      "d:\\Programme_D\\Miniconda\\envs\\Daigona\\Lib\\site-packages\\xgboost\\data.py:427: FutureWarning: is_sparse is deprecated and will be removed in a future version. Check `isinstance(dtype, pd.SparseDtype)` instead.\n",
      "  if is_sparse(data):\n",
      "d:\\Programme_D\\Miniconda\\envs\\Daigona\\Lib\\site-packages\\xgboost\\data.py:427: FutureWarning: is_sparse is deprecated and will be removed in a future version. Check `isinstance(dtype, pd.SparseDtype)` instead.\n",
      "  if is_sparse(data):\n",
      "d:\\Programme_D\\Miniconda\\envs\\Daigona\\Lib\\site-packages\\xgboost\\data.py:427: FutureWarning: is_sparse is deprecated and will be removed in a future version. Check `isinstance(dtype, pd.SparseDtype)` instead.\n",
      "  if is_sparse(data):\n",
      "d:\\Programme_D\\Miniconda\\envs\\Daigona\\Lib\\site-packages\\xgboost\\data.py:427: FutureWarning: is_sparse is deprecated and will be removed in a future version. Check `isinstance(dtype, pd.SparseDtype)` instead.\n",
      "  if is_sparse(data):\n",
      "d:\\Programme_D\\Miniconda\\envs\\Daigona\\Lib\\site-packages\\xgboost\\data.py:427: FutureWarning: is_sparse is deprecated and will be removed in a future version. Check `isinstance(dtype, pd.SparseDtype)` instead.\n",
      "  if is_sparse(data):\n",
      "d:\\Programme_D\\Miniconda\\envs\\Daigona\\Lib\\site-packages\\xgboost\\data.py:427: FutureWarning: is_sparse is deprecated and will be removed in a future version. Check `isinstance(dtype, pd.SparseDtype)` instead.\n",
      "  if is_sparse(data):\n",
      "d:\\Programme_D\\Miniconda\\envs\\Daigona\\Lib\\site-packages\\xgboost\\data.py:427: FutureWarning: is_sparse is deprecated and will be removed in a future version. Check `isinstance(dtype, pd.SparseDtype)` instead.\n",
      "  if is_sparse(data):\n",
      "d:\\Programme_D\\Miniconda\\envs\\Daigona\\Lib\\site-packages\\xgboost\\data.py:427: FutureWarning: is_sparse is deprecated and will be removed in a future version. Check `isinstance(dtype, pd.SparseDtype)` instead.\n",
      "  if is_sparse(data):\n",
      "d:\\Programme_D\\Miniconda\\envs\\Daigona\\Lib\\site-packages\\xgboost\\data.py:427: FutureWarning: is_sparse is deprecated and will be removed in a future version. Check `isinstance(dtype, pd.SparseDtype)` instead.\n",
      "  if is_sparse(data):\n",
      "d:\\Programme_D\\Miniconda\\envs\\Daigona\\Lib\\site-packages\\xgboost\\data.py:427: FutureWarning: is_sparse is deprecated and will be removed in a future version. Check `isinstance(dtype, pd.SparseDtype)` instead.\n",
      "  if is_sparse(data):\n",
      "d:\\Programme_D\\Miniconda\\envs\\Daigona\\Lib\\site-packages\\xgboost\\data.py:427: FutureWarning: is_sparse is deprecated and will be removed in a future version. Check `isinstance(dtype, pd.SparseDtype)` instead.\n",
      "  if is_sparse(data):\n",
      "d:\\Programme_D\\Miniconda\\envs\\Daigona\\Lib\\site-packages\\xgboost\\data.py:427: FutureWarning: is_sparse is deprecated and will be removed in a future version. Check `isinstance(dtype, pd.SparseDtype)` instead.\n",
      "  if is_sparse(data):\n",
      "d:\\Programme_D\\Miniconda\\envs\\Daigona\\Lib\\site-packages\\xgboost\\data.py:427: FutureWarning: is_sparse is deprecated and will be removed in a future version. Check `isinstance(dtype, pd.SparseDtype)` instead.\n",
      "  if is_sparse(data):\n",
      "d:\\Programme_D\\Miniconda\\envs\\Daigona\\Lib\\site-packages\\xgboost\\data.py:427: FutureWarning: is_sparse is deprecated and will be removed in a future version. Check `isinstance(dtype, pd.SparseDtype)` instead.\n",
      "  if is_sparse(data):\n",
      "d:\\Programme_D\\Miniconda\\envs\\Daigona\\Lib\\site-packages\\xgboost\\data.py:427: FutureWarning: is_sparse is deprecated and will be removed in a future version. Check `isinstance(dtype, pd.SparseDtype)` instead.\n",
      "  if is_sparse(data):\n",
      "d:\\Programme_D\\Miniconda\\envs\\Daigona\\Lib\\site-packages\\xgboost\\data.py:427: FutureWarning: is_sparse is deprecated and will be removed in a future version. Check `isinstance(dtype, pd.SparseDtype)` instead.\n",
      "  if is_sparse(data):\n",
      "d:\\Programme_D\\Miniconda\\envs\\Daigona\\Lib\\site-packages\\xgboost\\data.py:427: FutureWarning: is_sparse is deprecated and will be removed in a future version. Check `isinstance(dtype, pd.SparseDtype)` instead.\n",
      "  if is_sparse(data):\n",
      "d:\\Programme_D\\Miniconda\\envs\\Daigona\\Lib\\site-packages\\xgboost\\data.py:427: FutureWarning: is_sparse is deprecated and will be removed in a future version. Check `isinstance(dtype, pd.SparseDtype)` instead.\n",
      "  if is_sparse(data):\n",
      "d:\\Programme_D\\Miniconda\\envs\\Daigona\\Lib\\site-packages\\xgboost\\data.py:427: FutureWarning: is_sparse is deprecated and will be removed in a future version. Check `isinstance(dtype, pd.SparseDtype)` instead.\n",
      "  if is_sparse(data):\n",
      "d:\\Programme_D\\Miniconda\\envs\\Daigona\\Lib\\site-packages\\xgboost\\data.py:427: FutureWarning: is_sparse is deprecated and will be removed in a future version. Check `isinstance(dtype, pd.SparseDtype)` instead.\n",
      "  if is_sparse(data):\n",
      "d:\\Programme_D\\Miniconda\\envs\\Daigona\\Lib\\site-packages\\xgboost\\data.py:427: FutureWarning: is_sparse is deprecated and will be removed in a future version. Check `isinstance(dtype, pd.SparseDtype)` instead.\n",
      "  if is_sparse(data):\n",
      "d:\\Programme_D\\Miniconda\\envs\\Daigona\\Lib\\site-packages\\xgboost\\data.py:427: FutureWarning: is_sparse is deprecated and will be removed in a future version. Check `isinstance(dtype, pd.SparseDtype)` instead.\n",
      "  if is_sparse(data):\n",
      "d:\\Programme_D\\Miniconda\\envs\\Daigona\\Lib\\site-packages\\xgboost\\data.py:427: FutureWarning: is_sparse is deprecated and will be removed in a future version. Check `isinstance(dtype, pd.SparseDtype)` instead.\n",
      "  if is_sparse(data):\n",
      "d:\\Programme_D\\Miniconda\\envs\\Daigona\\Lib\\site-packages\\xgboost\\data.py:427: FutureWarning: is_sparse is deprecated and will be removed in a future version. Check `isinstance(dtype, pd.SparseDtype)` instead.\n",
      "  if is_sparse(data):\n",
      "d:\\Programme_D\\Miniconda\\envs\\Daigona\\Lib\\site-packages\\xgboost\\data.py:427: FutureWarning: is_sparse is deprecated and will be removed in a future version. Check `isinstance(dtype, pd.SparseDtype)` instead.\n",
      "  if is_sparse(data):\n",
      "d:\\Programme_D\\Miniconda\\envs\\Daigona\\Lib\\site-packages\\xgboost\\data.py:427: FutureWarning: is_sparse is deprecated and will be removed in a future version. Check `isinstance(dtype, pd.SparseDtype)` instead.\n",
      "  if is_sparse(data):\n",
      "d:\\Programme_D\\Miniconda\\envs\\Daigona\\Lib\\site-packages\\xgboost\\data.py:427: FutureWarning: is_sparse is deprecated and will be removed in a future version. Check `isinstance(dtype, pd.SparseDtype)` instead.\n",
      "  if is_sparse(data):\n",
      "d:\\Programme_D\\Miniconda\\envs\\Daigona\\Lib\\site-packages\\xgboost\\data.py:427: FutureWarning: is_sparse is deprecated and will be removed in a future version. Check `isinstance(dtype, pd.SparseDtype)` instead.\n",
      "  if is_sparse(data):\n",
      "d:\\Programme_D\\Miniconda\\envs\\Daigona\\Lib\\site-packages\\xgboost\\data.py:427: FutureWarning: is_sparse is deprecated and will be removed in a future version. Check `isinstance(dtype, pd.SparseDtype)` instead.\n",
      "  if is_sparse(data):\n",
      "d:\\Programme_D\\Miniconda\\envs\\Daigona\\Lib\\site-packages\\xgboost\\data.py:427: FutureWarning: is_sparse is deprecated and will be removed in a future version. Check `isinstance(dtype, pd.SparseDtype)` instead.\n",
      "  if is_sparse(data):\n",
      "d:\\Programme_D\\Miniconda\\envs\\Daigona\\Lib\\site-packages\\xgboost\\data.py:427: FutureWarning: is_sparse is deprecated and will be removed in a future version. Check `isinstance(dtype, pd.SparseDtype)` instead.\n",
      "  if is_sparse(data):\n",
      "d:\\Programme_D\\Miniconda\\envs\\Daigona\\Lib\\site-packages\\xgboost\\data.py:427: FutureWarning: is_sparse is deprecated and will be removed in a future version. Check `isinstance(dtype, pd.SparseDtype)` instead.\n",
      "  if is_sparse(data):\n",
      "d:\\Programme_D\\Miniconda\\envs\\Daigona\\Lib\\site-packages\\xgboost\\data.py:427: FutureWarning: is_sparse is deprecated and will be removed in a future version. Check `isinstance(dtype, pd.SparseDtype)` instead.\n",
      "  if is_sparse(data):\n",
      "d:\\Programme_D\\Miniconda\\envs\\Daigona\\Lib\\site-packages\\xgboost\\data.py:427: FutureWarning: is_sparse is deprecated and will be removed in a future version. Check `isinstance(dtype, pd.SparseDtype)` instead.\n",
      "  if is_sparse(data):\n",
      "d:\\Programme_D\\Miniconda\\envs\\Daigona\\Lib\\site-packages\\xgboost\\data.py:427: FutureWarning: is_sparse is deprecated and will be removed in a future version. Check `isinstance(dtype, pd.SparseDtype)` instead.\n",
      "  if is_sparse(data):\n",
      "d:\\Programme_D\\Miniconda\\envs\\Daigona\\Lib\\site-packages\\xgboost\\data.py:427: FutureWarning: is_sparse is deprecated and will be removed in a future version. Check `isinstance(dtype, pd.SparseDtype)` instead.\n",
      "  if is_sparse(data):\n",
      "d:\\Programme_D\\Miniconda\\envs\\Daigona\\Lib\\site-packages\\xgboost\\data.py:427: FutureWarning: is_sparse is deprecated and will be removed in a future version. Check `isinstance(dtype, pd.SparseDtype)` instead.\n",
      "  if is_sparse(data):\n",
      "d:\\Programme_D\\Miniconda\\envs\\Daigona\\Lib\\site-packages\\xgboost\\data.py:427: FutureWarning: is_sparse is deprecated and will be removed in a future version. Check `isinstance(dtype, pd.SparseDtype)` instead.\n",
      "  if is_sparse(data):\n",
      "d:\\Programme_D\\Miniconda\\envs\\Daigona\\Lib\\site-packages\\xgboost\\data.py:427: FutureWarning: is_sparse is deprecated and will be removed in a future version. Check `isinstance(dtype, pd.SparseDtype)` instead.\n",
      "  if is_sparse(data):\n",
      "d:\\Programme_D\\Miniconda\\envs\\Daigona\\Lib\\site-packages\\xgboost\\data.py:427: FutureWarning: is_sparse is deprecated and will be removed in a future version. Check `isinstance(dtype, pd.SparseDtype)` instead.\n",
      "  if is_sparse(data):\n",
      "d:\\Programme_D\\Miniconda\\envs\\Daigona\\Lib\\site-packages\\xgboost\\data.py:427: FutureWarning: is_sparse is deprecated and will be removed in a future version. Check `isinstance(dtype, pd.SparseDtype)` instead.\n",
      "  if is_sparse(data):\n",
      "d:\\Programme_D\\Miniconda\\envs\\Daigona\\Lib\\site-packages\\xgboost\\data.py:427: FutureWarning: is_sparse is deprecated and will be removed in a future version. Check `isinstance(dtype, pd.SparseDtype)` instead.\n",
      "  if is_sparse(data):\n",
      "d:\\Programme_D\\Miniconda\\envs\\Daigona\\Lib\\site-packages\\xgboost\\data.py:427: FutureWarning: is_sparse is deprecated and will be removed in a future version. Check `isinstance(dtype, pd.SparseDtype)` instead.\n",
      "  if is_sparse(data):\n",
      "d:\\Programme_D\\Miniconda\\envs\\Daigona\\Lib\\site-packages\\xgboost\\data.py:427: FutureWarning: is_sparse is deprecated and will be removed in a future version. Check `isinstance(dtype, pd.SparseDtype)` instead.\n",
      "  if is_sparse(data):\n",
      "d:\\Programme_D\\Miniconda\\envs\\Daigona\\Lib\\site-packages\\xgboost\\data.py:427: FutureWarning: is_sparse is deprecated and will be removed in a future version. Check `isinstance(dtype, pd.SparseDtype)` instead.\n",
      "  if is_sparse(data):\n",
      "d:\\Programme_D\\Miniconda\\envs\\Daigona\\Lib\\site-packages\\xgboost\\data.py:427: FutureWarning: is_sparse is deprecated and will be removed in a future version. Check `isinstance(dtype, pd.SparseDtype)` instead.\n",
      "  if is_sparse(data):\n",
      "d:\\Programme_D\\Miniconda\\envs\\Daigona\\Lib\\site-packages\\xgboost\\data.py:427: FutureWarning: is_sparse is deprecated and will be removed in a future version. Check `isinstance(dtype, pd.SparseDtype)` instead.\n",
      "  if is_sparse(data):\n",
      "d:\\Programme_D\\Miniconda\\envs\\Daigona\\Lib\\site-packages\\xgboost\\data.py:427: FutureWarning: is_sparse is deprecated and will be removed in a future version. Check `isinstance(dtype, pd.SparseDtype)` instead.\n",
      "  if is_sparse(data):\n",
      "d:\\Programme_D\\Miniconda\\envs\\Daigona\\Lib\\site-packages\\xgboost\\data.py:427: FutureWarning: is_sparse is deprecated and will be removed in a future version. Check `isinstance(dtype, pd.SparseDtype)` instead.\n",
      "  if is_sparse(data):\n",
      "d:\\Programme_D\\Miniconda\\envs\\Daigona\\Lib\\site-packages\\xgboost\\data.py:427: FutureWarning: is_sparse is deprecated and will be removed in a future version. Check `isinstance(dtype, pd.SparseDtype)` instead.\n",
      "  if is_sparse(data):\n",
      "d:\\Programme_D\\Miniconda\\envs\\Daigona\\Lib\\site-packages\\xgboost\\data.py:427: FutureWarning: is_sparse is deprecated and will be removed in a future version. Check `isinstance(dtype, pd.SparseDtype)` instead.\n",
      "  if is_sparse(data):\n",
      "d:\\Programme_D\\Miniconda\\envs\\Daigona\\Lib\\site-packages\\xgboost\\data.py:427: FutureWarning: is_sparse is deprecated and will be removed in a future version. Check `isinstance(dtype, pd.SparseDtype)` instead.\n",
      "  if is_sparse(data):\n",
      "d:\\Programme_D\\Miniconda\\envs\\Daigona\\Lib\\site-packages\\xgboost\\data.py:427: FutureWarning: is_sparse is deprecated and will be removed in a future version. Check `isinstance(dtype, pd.SparseDtype)` instead.\n",
      "  if is_sparse(data):\n",
      "d:\\Programme_D\\Miniconda\\envs\\Daigona\\Lib\\site-packages\\xgboost\\data.py:427: FutureWarning: is_sparse is deprecated and will be removed in a future version. Check `isinstance(dtype, pd.SparseDtype)` instead.\n",
      "  if is_sparse(data):\n",
      "d:\\Programme_D\\Miniconda\\envs\\Daigona\\Lib\\site-packages\\xgboost\\data.py:427: FutureWarning: is_sparse is deprecated and will be removed in a future version. Check `isinstance(dtype, pd.SparseDtype)` instead.\n",
      "  if is_sparse(data):\n",
      "d:\\Programme_D\\Miniconda\\envs\\Daigona\\Lib\\site-packages\\xgboost\\data.py:427: FutureWarning: is_sparse is deprecated and will be removed in a future version. Check `isinstance(dtype, pd.SparseDtype)` instead.\n",
      "  if is_sparse(data):\n",
      "d:\\Programme_D\\Miniconda\\envs\\Daigona\\Lib\\site-packages\\xgboost\\data.py:427: FutureWarning: is_sparse is deprecated and will be removed in a future version. Check `isinstance(dtype, pd.SparseDtype)` instead.\n",
      "  if is_sparse(data):\n",
      "d:\\Programme_D\\Miniconda\\envs\\Daigona\\Lib\\site-packages\\xgboost\\data.py:427: FutureWarning: is_sparse is deprecated and will be removed in a future version. Check `isinstance(dtype, pd.SparseDtype)` instead.\n",
      "  if is_sparse(data):\n",
      "d:\\Programme_D\\Miniconda\\envs\\Daigona\\Lib\\site-packages\\xgboost\\data.py:427: FutureWarning: is_sparse is deprecated and will be removed in a future version. Check `isinstance(dtype, pd.SparseDtype)` instead.\n",
      "  if is_sparse(data):\n",
      "d:\\Programme_D\\Miniconda\\envs\\Daigona\\Lib\\site-packages\\xgboost\\data.py:427: FutureWarning: is_sparse is deprecated and will be removed in a future version. Check `isinstance(dtype, pd.SparseDtype)` instead.\n",
      "  if is_sparse(data):\n",
      "d:\\Programme_D\\Miniconda\\envs\\Daigona\\Lib\\site-packages\\xgboost\\data.py:427: FutureWarning: is_sparse is deprecated and will be removed in a future version. Check `isinstance(dtype, pd.SparseDtype)` instead.\n",
      "  if is_sparse(data):\n",
      "d:\\Programme_D\\Miniconda\\envs\\Daigona\\Lib\\site-packages\\xgboost\\data.py:427: FutureWarning: is_sparse is deprecated and will be removed in a future version. Check `isinstance(dtype, pd.SparseDtype)` instead.\n",
      "  if is_sparse(data):\n",
      "d:\\Programme_D\\Miniconda\\envs\\Daigona\\Lib\\site-packages\\xgboost\\data.py:427: FutureWarning: is_sparse is deprecated and will be removed in a future version. Check `isinstance(dtype, pd.SparseDtype)` instead.\n",
      "  if is_sparse(data):\n",
      "d:\\Programme_D\\Miniconda\\envs\\Daigona\\Lib\\site-packages\\xgboost\\data.py:427: FutureWarning: is_sparse is deprecated and will be removed in a future version. Check `isinstance(dtype, pd.SparseDtype)` instead.\n",
      "  if is_sparse(data):\n",
      "d:\\Programme_D\\Miniconda\\envs\\Daigona\\Lib\\site-packages\\xgboost\\data.py:427: FutureWarning: is_sparse is deprecated and will be removed in a future version. Check `isinstance(dtype, pd.SparseDtype)` instead.\n",
      "  if is_sparse(data):\n",
      "d:\\Programme_D\\Miniconda\\envs\\Daigona\\Lib\\site-packages\\xgboost\\data.py:427: FutureWarning: is_sparse is deprecated and will be removed in a future version. Check `isinstance(dtype, pd.SparseDtype)` instead.\n",
      "  if is_sparse(data):\n",
      "d:\\Programme_D\\Miniconda\\envs\\Daigona\\Lib\\site-packages\\xgboost\\data.py:427: FutureWarning: is_sparse is deprecated and will be removed in a future version. Check `isinstance(dtype, pd.SparseDtype)` instead.\n",
      "  if is_sparse(data):\n",
      "d:\\Programme_D\\Miniconda\\envs\\Daigona\\Lib\\site-packages\\xgboost\\data.py:427: FutureWarning: is_sparse is deprecated and will be removed in a future version. Check `isinstance(dtype, pd.SparseDtype)` instead.\n",
      "  if is_sparse(data):\n",
      "d:\\Programme_D\\Miniconda\\envs\\Daigona\\Lib\\site-packages\\xgboost\\data.py:427: FutureWarning: is_sparse is deprecated and will be removed in a future version. Check `isinstance(dtype, pd.SparseDtype)` instead.\n",
      "  if is_sparse(data):\n",
      "d:\\Programme_D\\Miniconda\\envs\\Daigona\\Lib\\site-packages\\xgboost\\data.py:427: FutureWarning: is_sparse is deprecated and will be removed in a future version. Check `isinstance(dtype, pd.SparseDtype)` instead.\n",
      "  if is_sparse(data):\n",
      "d:\\Programme_D\\Miniconda\\envs\\Daigona\\Lib\\site-packages\\xgboost\\data.py:427: FutureWarning: is_sparse is deprecated and will be removed in a future version. Check `isinstance(dtype, pd.SparseDtype)` instead.\n",
      "  if is_sparse(data):\n",
      "d:\\Programme_D\\Miniconda\\envs\\Daigona\\Lib\\site-packages\\xgboost\\data.py:427: FutureWarning: is_sparse is deprecated and will be removed in a future version. Check `isinstance(dtype, pd.SparseDtype)` instead.\n",
      "  if is_sparse(data):\n",
      "d:\\Programme_D\\Miniconda\\envs\\Daigona\\Lib\\site-packages\\xgboost\\data.py:427: FutureWarning: is_sparse is deprecated and will be removed in a future version. Check `isinstance(dtype, pd.SparseDtype)` instead.\n",
      "  if is_sparse(data):\n",
      "d:\\Programme_D\\Miniconda\\envs\\Daigona\\Lib\\site-packages\\xgboost\\data.py:427: FutureWarning: is_sparse is deprecated and will be removed in a future version. Check `isinstance(dtype, pd.SparseDtype)` instead.\n",
      "  if is_sparse(data):\n",
      "d:\\Programme_D\\Miniconda\\envs\\Daigona\\Lib\\site-packages\\xgboost\\data.py:427: FutureWarning: is_sparse is deprecated and will be removed in a future version. Check `isinstance(dtype, pd.SparseDtype)` instead.\n",
      "  if is_sparse(data):\n",
      "d:\\Programme_D\\Miniconda\\envs\\Daigona\\Lib\\site-packages\\xgboost\\data.py:427: FutureWarning: is_sparse is deprecated and will be removed in a future version. Check `isinstance(dtype, pd.SparseDtype)` instead.\n",
      "  if is_sparse(data):\n",
      "d:\\Programme_D\\Miniconda\\envs\\Daigona\\Lib\\site-packages\\xgboost\\data.py:427: FutureWarning: is_sparse is deprecated and will be removed in a future version. Check `isinstance(dtype, pd.SparseDtype)` instead.\n",
      "  if is_sparse(data):\n",
      "d:\\Programme_D\\Miniconda\\envs\\Daigona\\Lib\\site-packages\\xgboost\\data.py:427: FutureWarning: is_sparse is deprecated and will be removed in a future version. Check `isinstance(dtype, pd.SparseDtype)` instead.\n",
      "  if is_sparse(data):\n",
      "d:\\Programme_D\\Miniconda\\envs\\Daigona\\Lib\\site-packages\\xgboost\\data.py:427: FutureWarning: is_sparse is deprecated and will be removed in a future version. Check `isinstance(dtype, pd.SparseDtype)` instead.\n",
      "  if is_sparse(data):\n"
     ]
    },
    {
     "name": "stdout",
     "output_type": "stream",
     "text": [
      "...Done.\n",
      "Best hyperparameters :  {'learning_rate': 0.1, 'max_depth': 6, 'n_estimators': 100}\n",
      "Best validation accuracy :  0.7250354925152985\n",
      "\n",
      "Accuracy on training set :  0.8883924883488149\n",
      "Accuracy on test set :  0.7687543334373695\n",
      "R2 score on test set :  0.7687543334373695\n",
      "RMSE on test set :  15.7140262848919\n"
     ]
    }
   ],
   "source": [
    "# Perform grid search\n",
    "print(\"Grid search...\")\n",
    "model = XGBRegressor()\n",
    "\n",
    "# Grid of values to be tested\n",
    "params = {\n",
    "    'max_depth': [2, 4, 6],\n",
    "    'learning_rate': [0.1, 0.01, 0.001],\n",
    "    'n_estimators': [100, 200, 300] \n",
    "}\n",
    "print(params)\n",
    "gridsearch = GridSearchCV(model, param_grid = params, cv = 3)\n",
    "gridsearch.fit(X_train, Y_train)\n",
    "print(\"...Done.\")\n",
    "print(\"Best hyperparameters : \", gridsearch.best_params_)\n",
    "print(\"Best validation accuracy : \", gridsearch.best_score_)\n",
    "print()\n",
    "print(\"Accuracy on training set : \", gridsearch.score(X_train, Y_train))\n",
    "print(\"Accuracy on test set : \", gridsearch.score(X_test, Y_test))\n",
    "\n",
    "Y_test_pred = gridsearch.predict(X_test)\n",
    "r2 = r2_score(Y_test, Y_test_pred)\n",
    "print(\"R2 score on test set : \", r2)\n",
    "\n",
    "rmse = np.sqrt(mean_squared_error(Y_test, Y_test_pred))\n",
    "print(\"RMSE on test set : \", rmse)"
   ]
  },
  {
   "cell_type": "code",
   "execution_count": 33,
   "metadata": {},
   "outputs": [
    {
     "name": "stdout",
     "output_type": "stream",
     "text": [
      "Train model...\n"
     ]
    },
    {
     "name": "stderr",
     "output_type": "stream",
     "text": [
      "d:\\Programme_D\\Miniconda\\envs\\Daigona\\Lib\\site-packages\\xgboost\\data.py:427: FutureWarning: is_sparse is deprecated and will be removed in a future version. Check `isinstance(dtype, pd.SparseDtype)` instead.\n",
      "  if is_sparse(data):\n"
     ]
    },
    {
     "name": "stdout",
     "output_type": "stream",
     "text": [
      "...Done.\n"
     ]
    }
   ],
   "source": [
    "print(\"Train model...\")\n",
    "model = XGBRegressor(learning_rate= 0.1, max_depth= 6, n_estimators= 100)\n",
    "model.fit(X_train, Y_train)\n",
    "print(\"...Done.\")\n",
    "\n",
    "Y_train_pred = model.predict(X_train)\n",
    "Y_test_pred = model.predict(X_test)"
   ]
  },
  {
   "cell_type": "code",
   "execution_count": 34,
   "metadata": {},
   "outputs": [
    {
     "name": "stdout",
     "output_type": "stream",
     "text": [
      "R2 score on training set :  0.8883924883488149\n",
      "R2 score on test set :  0.7687543334373695\n"
     ]
    }
   ],
   "source": [
    "# Print R^2 scores, quand on a fait une prédiction\n",
    "print(\"R2 score on training set : \", r2_score(Y_train, Y_train_pred))\n",
    "print(\"R2 score on test set : \", r2_score(Y_test, Y_test_pred))"
   ]
  },
  {
   "cell_type": "code",
   "execution_count": 35,
   "metadata": {},
   "outputs": [
    {
     "name": "stdout",
     "output_type": "stream",
     "text": [
      "RMSE: 15.7140262848919\n"
     ]
    }
   ],
   "source": [
    "mse = mean_squared_error(Y_test, Y_test_pred)\n",
    "# Calculez la RMSE en prenant la racine carrée du MSE\n",
    "rmse = np.sqrt(mse)\n",
    "\n",
    "print(\"RMSE:\", rmse)"
   ]
  },
  {
   "cell_type": "markdown",
   "metadata": {},
   "source": [
    "RandomizedSearchCV\n"
   ]
  },
  {
   "cell_type": "code",
   "execution_count": 36,
   "metadata": {},
   "outputs": [
    {
     "name": "stderr",
     "output_type": "stream",
     "text": [
      "d:\\Programme_D\\Miniconda\\envs\\Daigona\\Lib\\site-packages\\xgboost\\data.py:427: FutureWarning: is_sparse is deprecated and will be removed in a future version. Check `isinstance(dtype, pd.SparseDtype)` instead.\n",
      "  if is_sparse(data):\n"
     ]
    },
    {
     "name": "stderr",
     "output_type": "stream",
     "text": [
      "d:\\Programme_D\\Miniconda\\envs\\Daigona\\Lib\\site-packages\\xgboost\\data.py:427: FutureWarning: is_sparse is deprecated and will be removed in a future version. Check `isinstance(dtype, pd.SparseDtype)` instead.\n",
      "  if is_sparse(data):\n",
      "d:\\Programme_D\\Miniconda\\envs\\Daigona\\Lib\\site-packages\\xgboost\\data.py:427: FutureWarning: is_sparse is deprecated and will be removed in a future version. Check `isinstance(dtype, pd.SparseDtype)` instead.\n",
      "  if is_sparse(data):\n",
      "d:\\Programme_D\\Miniconda\\envs\\Daigona\\Lib\\site-packages\\xgboost\\data.py:427: FutureWarning: is_sparse is deprecated and will be removed in a future version. Check `isinstance(dtype, pd.SparseDtype)` instead.\n",
      "  if is_sparse(data):\n",
      "d:\\Programme_D\\Miniconda\\envs\\Daigona\\Lib\\site-packages\\xgboost\\data.py:427: FutureWarning: is_sparse is deprecated and will be removed in a future version. Check `isinstance(dtype, pd.SparseDtype)` instead.\n",
      "  if is_sparse(data):\n",
      "d:\\Programme_D\\Miniconda\\envs\\Daigona\\Lib\\site-packages\\xgboost\\data.py:427: FutureWarning: is_sparse is deprecated and will be removed in a future version. Check `isinstance(dtype, pd.SparseDtype)` instead.\n",
      "  if is_sparse(data):\n",
      "d:\\Programme_D\\Miniconda\\envs\\Daigona\\Lib\\site-packages\\xgboost\\data.py:427: FutureWarning: is_sparse is deprecated and will be removed in a future version. Check `isinstance(dtype, pd.SparseDtype)` instead.\n",
      "  if is_sparse(data):\n",
      "d:\\Programme_D\\Miniconda\\envs\\Daigona\\Lib\\site-packages\\xgboost\\data.py:427: FutureWarning: is_sparse is deprecated and will be removed in a future version. Check `isinstance(dtype, pd.SparseDtype)` instead.\n",
      "  if is_sparse(data):\n",
      "d:\\Programme_D\\Miniconda\\envs\\Daigona\\Lib\\site-packages\\xgboost\\data.py:427: FutureWarning: is_sparse is deprecated and will be removed in a future version. Check `isinstance(dtype, pd.SparseDtype)` instead.\n",
      "  if is_sparse(data):\n",
      "d:\\Programme_D\\Miniconda\\envs\\Daigona\\Lib\\site-packages\\xgboost\\data.py:427: FutureWarning: is_sparse is deprecated and will be removed in a future version. Check `isinstance(dtype, pd.SparseDtype)` instead.\n",
      "  if is_sparse(data):\n",
      "d:\\Programme_D\\Miniconda\\envs\\Daigona\\Lib\\site-packages\\xgboost\\data.py:427: FutureWarning: is_sparse is deprecated and will be removed in a future version. Check `isinstance(dtype, pd.SparseDtype)` instead.\n",
      "  if is_sparse(data):\n",
      "d:\\Programme_D\\Miniconda\\envs\\Daigona\\Lib\\site-packages\\xgboost\\data.py:427: FutureWarning: is_sparse is deprecated and will be removed in a future version. Check `isinstance(dtype, pd.SparseDtype)` instead.\n",
      "  if is_sparse(data):\n",
      "d:\\Programme_D\\Miniconda\\envs\\Daigona\\Lib\\site-packages\\xgboost\\data.py:427: FutureWarning: is_sparse is deprecated and will be removed in a future version. Check `isinstance(dtype, pd.SparseDtype)` instead.\n",
      "  if is_sparse(data):\n",
      "d:\\Programme_D\\Miniconda\\envs\\Daigona\\Lib\\site-packages\\xgboost\\data.py:427: FutureWarning: is_sparse is deprecated and will be removed in a future version. Check `isinstance(dtype, pd.SparseDtype)` instead.\n",
      "  if is_sparse(data):\n",
      "d:\\Programme_D\\Miniconda\\envs\\Daigona\\Lib\\site-packages\\xgboost\\data.py:427: FutureWarning: is_sparse is deprecated and will be removed in a future version. Check `isinstance(dtype, pd.SparseDtype)` instead.\n",
      "  if is_sparse(data):\n",
      "d:\\Programme_D\\Miniconda\\envs\\Daigona\\Lib\\site-packages\\xgboost\\data.py:427: FutureWarning: is_sparse is deprecated and will be removed in a future version. Check `isinstance(dtype, pd.SparseDtype)` instead.\n",
      "  if is_sparse(data):\n",
      "d:\\Programme_D\\Miniconda\\envs\\Daigona\\Lib\\site-packages\\xgboost\\data.py:427: FutureWarning: is_sparse is deprecated and will be removed in a future version. Check `isinstance(dtype, pd.SparseDtype)` instead.\n",
      "  if is_sparse(data):\n",
      "d:\\Programme_D\\Miniconda\\envs\\Daigona\\Lib\\site-packages\\xgboost\\data.py:427: FutureWarning: is_sparse is deprecated and will be removed in a future version. Check `isinstance(dtype, pd.SparseDtype)` instead.\n",
      "  if is_sparse(data):\n",
      "d:\\Programme_D\\Miniconda\\envs\\Daigona\\Lib\\site-packages\\xgboost\\data.py:427: FutureWarning: is_sparse is deprecated and will be removed in a future version. Check `isinstance(dtype, pd.SparseDtype)` instead.\n",
      "  if is_sparse(data):\n",
      "d:\\Programme_D\\Miniconda\\envs\\Daigona\\Lib\\site-packages\\xgboost\\data.py:427: FutureWarning: is_sparse is deprecated and will be removed in a future version. Check `isinstance(dtype, pd.SparseDtype)` instead.\n",
      "  if is_sparse(data):\n",
      "d:\\Programme_D\\Miniconda\\envs\\Daigona\\Lib\\site-packages\\xgboost\\data.py:427: FutureWarning: is_sparse is deprecated and will be removed in a future version. Check `isinstance(dtype, pd.SparseDtype)` instead.\n",
      "  if is_sparse(data):\n",
      "d:\\Programme_D\\Miniconda\\envs\\Daigona\\Lib\\site-packages\\xgboost\\data.py:427: FutureWarning: is_sparse is deprecated and will be removed in a future version. Check `isinstance(dtype, pd.SparseDtype)` instead.\n",
      "  if is_sparse(data):\n",
      "d:\\Programme_D\\Miniconda\\envs\\Daigona\\Lib\\site-packages\\xgboost\\data.py:427: FutureWarning: is_sparse is deprecated and will be removed in a future version. Check `isinstance(dtype, pd.SparseDtype)` instead.\n",
      "  if is_sparse(data):\n",
      "d:\\Programme_D\\Miniconda\\envs\\Daigona\\Lib\\site-packages\\xgboost\\data.py:427: FutureWarning: is_sparse is deprecated and will be removed in a future version. Check `isinstance(dtype, pd.SparseDtype)` instead.\n",
      "  if is_sparse(data):\n",
      "d:\\Programme_D\\Miniconda\\envs\\Daigona\\Lib\\site-packages\\xgboost\\data.py:427: FutureWarning: is_sparse is deprecated and will be removed in a future version. Check `isinstance(dtype, pd.SparseDtype)` instead.\n",
      "  if is_sparse(data):\n",
      "d:\\Programme_D\\Miniconda\\envs\\Daigona\\Lib\\site-packages\\xgboost\\data.py:427: FutureWarning: is_sparse is deprecated and will be removed in a future version. Check `isinstance(dtype, pd.SparseDtype)` instead.\n",
      "  if is_sparse(data):\n",
      "d:\\Programme_D\\Miniconda\\envs\\Daigona\\Lib\\site-packages\\xgboost\\data.py:427: FutureWarning: is_sparse is deprecated and will be removed in a future version. Check `isinstance(dtype, pd.SparseDtype)` instead.\n",
      "  if is_sparse(data):\n",
      "d:\\Programme_D\\Miniconda\\envs\\Daigona\\Lib\\site-packages\\xgboost\\data.py:427: FutureWarning: is_sparse is deprecated and will be removed in a future version. Check `isinstance(dtype, pd.SparseDtype)` instead.\n",
      "  if is_sparse(data):\n",
      "d:\\Programme_D\\Miniconda\\envs\\Daigona\\Lib\\site-packages\\xgboost\\data.py:427: FutureWarning: is_sparse is deprecated and will be removed in a future version. Check `isinstance(dtype, pd.SparseDtype)` instead.\n",
      "  if is_sparse(data):\n",
      "d:\\Programme_D\\Miniconda\\envs\\Daigona\\Lib\\site-packages\\xgboost\\data.py:427: FutureWarning: is_sparse is deprecated and will be removed in a future version. Check `isinstance(dtype, pd.SparseDtype)` instead.\n",
      "  if is_sparse(data):\n",
      "d:\\Programme_D\\Miniconda\\envs\\Daigona\\Lib\\site-packages\\xgboost\\data.py:427: FutureWarning: is_sparse is deprecated and will be removed in a future version. Check `isinstance(dtype, pd.SparseDtype)` instead.\n",
      "  if is_sparse(data):\n",
      "d:\\Programme_D\\Miniconda\\envs\\Daigona\\Lib\\site-packages\\xgboost\\data.py:427: FutureWarning: is_sparse is deprecated and will be removed in a future version. Check `isinstance(dtype, pd.SparseDtype)` instead.\n",
      "  if is_sparse(data):\n",
      "d:\\Programme_D\\Miniconda\\envs\\Daigona\\Lib\\site-packages\\xgboost\\data.py:427: FutureWarning: is_sparse is deprecated and will be removed in a future version. Check `isinstance(dtype, pd.SparseDtype)` instead.\n",
      "  if is_sparse(data):\n",
      "d:\\Programme_D\\Miniconda\\envs\\Daigona\\Lib\\site-packages\\xgboost\\data.py:427: FutureWarning: is_sparse is deprecated and will be removed in a future version. Check `isinstance(dtype, pd.SparseDtype)` instead.\n",
      "  if is_sparse(data):\n",
      "d:\\Programme_D\\Miniconda\\envs\\Daigona\\Lib\\site-packages\\xgboost\\data.py:427: FutureWarning: is_sparse is deprecated and will be removed in a future version. Check `isinstance(dtype, pd.SparseDtype)` instead.\n",
      "  if is_sparse(data):\n",
      "d:\\Programme_D\\Miniconda\\envs\\Daigona\\Lib\\site-packages\\xgboost\\data.py:427: FutureWarning: is_sparse is deprecated and will be removed in a future version. Check `isinstance(dtype, pd.SparseDtype)` instead.\n",
      "  if is_sparse(data):\n",
      "d:\\Programme_D\\Miniconda\\envs\\Daigona\\Lib\\site-packages\\xgboost\\data.py:427: FutureWarning: is_sparse is deprecated and will be removed in a future version. Check `isinstance(dtype, pd.SparseDtype)` instead.\n",
      "  if is_sparse(data):\n",
      "d:\\Programme_D\\Miniconda\\envs\\Daigona\\Lib\\site-packages\\xgboost\\data.py:427: FutureWarning: is_sparse is deprecated and will be removed in a future version. Check `isinstance(dtype, pd.SparseDtype)` instead.\n",
      "  if is_sparse(data):\n",
      "d:\\Programme_D\\Miniconda\\envs\\Daigona\\Lib\\site-packages\\xgboost\\data.py:427: FutureWarning: is_sparse is deprecated and will be removed in a future version. Check `isinstance(dtype, pd.SparseDtype)` instead.\n",
      "  if is_sparse(data):\n",
      "d:\\Programme_D\\Miniconda\\envs\\Daigona\\Lib\\site-packages\\xgboost\\data.py:427: FutureWarning: is_sparse is deprecated and will be removed in a future version. Check `isinstance(dtype, pd.SparseDtype)` instead.\n",
      "  if is_sparse(data):\n",
      "d:\\Programme_D\\Miniconda\\envs\\Daigona\\Lib\\site-packages\\xgboost\\data.py:427: FutureWarning: is_sparse is deprecated and will be removed in a future version. Check `isinstance(dtype, pd.SparseDtype)` instead.\n",
      "  if is_sparse(data):\n",
      "d:\\Programme_D\\Miniconda\\envs\\Daigona\\Lib\\site-packages\\xgboost\\data.py:427: FutureWarning: is_sparse is deprecated and will be removed in a future version. Check `isinstance(dtype, pd.SparseDtype)` instead.\n",
      "  if is_sparse(data):\n",
      "d:\\Programme_D\\Miniconda\\envs\\Daigona\\Lib\\site-packages\\xgboost\\data.py:427: FutureWarning: is_sparse is deprecated and will be removed in a future version. Check `isinstance(dtype, pd.SparseDtype)` instead.\n",
      "  if is_sparse(data):\n",
      "d:\\Programme_D\\Miniconda\\envs\\Daigona\\Lib\\site-packages\\xgboost\\data.py:427: FutureWarning: is_sparse is deprecated and will be removed in a future version. Check `isinstance(dtype, pd.SparseDtype)` instead.\n",
      "  if is_sparse(data):\n",
      "d:\\Programme_D\\Miniconda\\envs\\Daigona\\Lib\\site-packages\\xgboost\\data.py:427: FutureWarning: is_sparse is deprecated and will be removed in a future version. Check `isinstance(dtype, pd.SparseDtype)` instead.\n",
      "  if is_sparse(data):\n",
      "d:\\Programme_D\\Miniconda\\envs\\Daigona\\Lib\\site-packages\\xgboost\\data.py:427: FutureWarning: is_sparse is deprecated and will be removed in a future version. Check `isinstance(dtype, pd.SparseDtype)` instead.\n",
      "  if is_sparse(data):\n",
      "d:\\Programme_D\\Miniconda\\envs\\Daigona\\Lib\\site-packages\\xgboost\\data.py:427: FutureWarning: is_sparse is deprecated and will be removed in a future version. Check `isinstance(dtype, pd.SparseDtype)` instead.\n",
      "  if is_sparse(data):\n",
      "d:\\Programme_D\\Miniconda\\envs\\Daigona\\Lib\\site-packages\\xgboost\\data.py:427: FutureWarning: is_sparse is deprecated and will be removed in a future version. Check `isinstance(dtype, pd.SparseDtype)` instead.\n",
      "  if is_sparse(data):\n",
      "d:\\Programme_D\\Miniconda\\envs\\Daigona\\Lib\\site-packages\\xgboost\\data.py:427: FutureWarning: is_sparse is deprecated and will be removed in a future version. Check `isinstance(dtype, pd.SparseDtype)` instead.\n",
      "  if is_sparse(data):\n",
      "d:\\Programme_D\\Miniconda\\envs\\Daigona\\Lib\\site-packages\\xgboost\\data.py:427: FutureWarning: is_sparse is deprecated and will be removed in a future version. Check `isinstance(dtype, pd.SparseDtype)` instead.\n",
      "  if is_sparse(data):\n",
      "d:\\Programme_D\\Miniconda\\envs\\Daigona\\Lib\\site-packages\\xgboost\\data.py:427: FutureWarning: is_sparse is deprecated and will be removed in a future version. Check `isinstance(dtype, pd.SparseDtype)` instead.\n",
      "  if is_sparse(data):\n"
     ]
    },
    {
     "name": "stdout",
     "output_type": "stream",
     "text": [
      "...Done.\n",
      "Best hyperparameters :  {'n_estimators': 400, 'max_depth': 5, 'learning_rate': 0.1}\n",
      "Best validation accuracy :  0.7405378495192936\n",
      "\n",
      "Accuracy on training set :  0.9309572057479581\n",
      "Accuracy on test set :  0.7875471858512175\n",
      "R2 score on test set :  0.7875471858512175\n",
      "RMSE on test set :  15.06197484024119\n"
     ]
    }
   ],
   "source": [
    "param_dist = {\n",
    "    'max_depth': [3, 5, 7, 9, 11],\n",
    "    'learning_rate': [0.01, 0.1, 0.2, 0.3],\n",
    "    'n_estimators': [100, 200, 300, 400],\n",
    "}\n",
    "\n",
    "# Créez un modèle (par exemple, XGBoost)\n",
    "model = XGBRegressor()\n",
    "\n",
    "# Créez un objet RandomizedSearchCV\n",
    "random_search = RandomizedSearchCV(model, param_distributions=param_dist, n_iter=10, scoring='r2', cv=5)\n",
    "\n",
    "# Effectuez la recherche aléatoire\n",
    "random_search.fit(X_train, Y_train)\n",
    "\n",
    "# Obtenez les meilleurs hyperparamètres\n",
    "print(\"...Done.\")\n",
    "print(\"Best hyperparameters : \", random_search.best_params_)\n",
    "print(\"Best validation accuracy : \", random_search.best_score_)\n",
    "print()\n",
    "print(\"Accuracy on training set : \", random_search.score(X_train, Y_train))\n",
    "print(\"Accuracy on test set : \", random_search.score(X_test, Y_test))\n",
    "\n",
    "Y_test_pred = random_search.predict(X_test)\n",
    "r2 = r2_score(Y_test, Y_test_pred)\n",
    "print(\"R2 score on test set : \", r2)\n",
    "\n",
    "rmse = np.sqrt(mean_squared_error(Y_test, Y_test_pred))\n",
    "print(\"RMSE on test set : \", rmse)"
   ]
  },
  {
   "cell_type": "code",
   "execution_count": 37,
   "metadata": {},
   "outputs": [
    {
     "name": "stdout",
     "output_type": "stream",
     "text": [
      "Train model...\n"
     ]
    },
    {
     "name": "stderr",
     "output_type": "stream",
     "text": [
      "d:\\Programme_D\\Miniconda\\envs\\Daigona\\Lib\\site-packages\\xgboost\\data.py:427: FutureWarning: is_sparse is deprecated and will be removed in a future version. Check `isinstance(dtype, pd.SparseDtype)` instead.\n",
      "  if is_sparse(data):\n"
     ]
    },
    {
     "name": "stdout",
     "output_type": "stream",
     "text": [
      "...Done.\n"
     ]
    }
   ],
   "source": [
    "print(\"Train model...\")\n",
    "model = XGBRegressor(learning_rate= 0.2, max_depth= 3, n_estimators= 200)\n",
    "model.fit(X_train, Y_train)\n",
    "print(\"...Done.\")\n",
    "\n",
    "Y_train_pred = model.predict(X_train)\n",
    "Y_test_pred = model.predict(X_test)"
   ]
  },
  {
   "cell_type": "code",
   "execution_count": 38,
   "metadata": {},
   "outputs": [
    {
     "name": "stdout",
     "output_type": "stream",
     "text": [
      "R2 score on training set :  0.8390515885312032\n",
      "R2 score on test set :  0.7716044913066795\n"
     ]
    }
   ],
   "source": [
    "# Print R^2 scores, quand on a fait une prédiction\n",
    "print(\"R2 score on training set : \", r2_score(Y_train, Y_train_pred))\n",
    "print(\"R2 score on test set : \", r2_score(Y_test, Y_test_pred))"
   ]
  },
  {
   "cell_type": "code",
   "execution_count": 39,
   "metadata": {},
   "outputs": [
    {
     "name": "stdout",
     "output_type": "stream",
     "text": [
      "RMSE: 15.616886482384258\n"
     ]
    }
   ],
   "source": [
    "mse = mean_squared_error(Y_test, Y_test_pred)\n",
    "# Calculez la RMSE en prenant la racine carrée du MSE\n",
    "rmse = np.sqrt(mse)\n",
    "\n",
    "print(\"RMSE:\", rmse)"
   ]
  },
  {
   "cell_type": "code",
   "execution_count": 40,
   "metadata": {},
   "outputs": [],
   "source": [
    "#joblib.dump(model, \"xgboost.joblib\")"
   ]
  }
 ],
 "metadata": {
  "kernelspec": {
   "display_name": "Daigona",
   "language": "python",
   "name": "python3"
  },
  "language_info": {
   "codemirror_mode": {
    "name": "ipython",
    "version": 3
   },
   "file_extension": ".py",
   "mimetype": "text/x-python",
   "name": "python",
   "nbconvert_exporter": "python",
   "pygments_lexer": "ipython3",
   "version": "3.11.5"
  }
 },
 "nbformat": 4,
 "nbformat_minor": 2
}
