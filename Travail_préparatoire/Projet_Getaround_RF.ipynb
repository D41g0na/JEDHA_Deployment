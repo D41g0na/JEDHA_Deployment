{
 "cells": [
  {
   "cell_type": "code",
   "execution_count": 23,
   "metadata": {},
   "outputs": [],
   "source": [
    "import pandas as pd\n",
    "import numpy as np\n",
    "from sklearn.model_selection import train_test_split\n",
    "from sklearn.pipeline import Pipeline\n",
    "from sklearn.impute import SimpleImputer\n",
    "from sklearn.preprocessing import  OneHotEncoder, StandardScaler, LabelEncoder \n",
    "from sklearn.compose import ColumnTransformer\n",
    "from sklearn.ensemble import RandomForestRegressor\n",
    "from sklearn.metrics import r2_score, mean_squared_error, make_scorer\n",
    "from sklearn.linear_model import Ridge, Lasso\n",
    "from sklearn.model_selection import cross_val_score, GridSearchCV"
   ]
  },
  {
   "cell_type": "code",
   "execution_count": 5,
   "metadata": {},
   "outputs": [
    {
     "data": {
      "text/html": [
       "<div>\n",
       "<style scoped>\n",
       "    .dataframe tbody tr th:only-of-type {\n",
       "        vertical-align: middle;\n",
       "    }\n",
       "\n",
       "    .dataframe tbody tr th {\n",
       "        vertical-align: top;\n",
       "    }\n",
       "\n",
       "    .dataframe thead th {\n",
       "        text-align: right;\n",
       "    }\n",
       "</style>\n",
       "<table border=\"1\" class=\"dataframe\">\n",
       "  <thead>\n",
       "    <tr style=\"text-align: right;\">\n",
       "      <th></th>\n",
       "      <th>model_key</th>\n",
       "      <th>mileage</th>\n",
       "      <th>engine_power</th>\n",
       "      <th>fuel</th>\n",
       "      <th>paint_color</th>\n",
       "      <th>car_type</th>\n",
       "      <th>private_parking_available</th>\n",
       "      <th>has_gps</th>\n",
       "      <th>has_air_conditioning</th>\n",
       "      <th>automatic_car</th>\n",
       "      <th>has_getaround_connect</th>\n",
       "      <th>has_speed_regulator</th>\n",
       "      <th>winter_tires</th>\n",
       "      <th>rental_price_per_day</th>\n",
       "    </tr>\n",
       "  </thead>\n",
       "  <tbody>\n",
       "    <tr>\n",
       "      <th>0</th>\n",
       "      <td>Peugeot</td>\n",
       "      <td>162021</td>\n",
       "      <td>90</td>\n",
       "      <td>diesel</td>\n",
       "      <td>black</td>\n",
       "      <td>estate</td>\n",
       "      <td>False</td>\n",
       "      <td>False</td>\n",
       "      <td>False</td>\n",
       "      <td>False</td>\n",
       "      <td>False</td>\n",
       "      <td>False</td>\n",
       "      <td>True</td>\n",
       "      <td>62</td>\n",
       "    </tr>\n",
       "    <tr>\n",
       "      <th>1</th>\n",
       "      <td>Audi</td>\n",
       "      <td>153074</td>\n",
       "      <td>160</td>\n",
       "      <td>diesel</td>\n",
       "      <td>black</td>\n",
       "      <td>sedan</td>\n",
       "      <td>False</td>\n",
       "      <td>True</td>\n",
       "      <td>False</td>\n",
       "      <td>False</td>\n",
       "      <td>False</td>\n",
       "      <td>False</td>\n",
       "      <td>True</td>\n",
       "      <td>120</td>\n",
       "    </tr>\n",
       "    <tr>\n",
       "      <th>2</th>\n",
       "      <td>Peugeot</td>\n",
       "      <td>145497</td>\n",
       "      <td>235</td>\n",
       "      <td>petrol</td>\n",
       "      <td>black</td>\n",
       "      <td>hatchback</td>\n",
       "      <td>True</td>\n",
       "      <td>True</td>\n",
       "      <td>True</td>\n",
       "      <td>True</td>\n",
       "      <td>True</td>\n",
       "      <td>True</td>\n",
       "      <td>True</td>\n",
       "      <td>147</td>\n",
       "    </tr>\n",
       "    <tr>\n",
       "      <th>3</th>\n",
       "      <td>Peugeot</td>\n",
       "      <td>60772</td>\n",
       "      <td>100</td>\n",
       "      <td>diesel</td>\n",
       "      <td>grey</td>\n",
       "      <td>estate</td>\n",
       "      <td>True</td>\n",
       "      <td>True</td>\n",
       "      <td>False</td>\n",
       "      <td>False</td>\n",
       "      <td>False</td>\n",
       "      <td>False</td>\n",
       "      <td>True</td>\n",
       "      <td>115</td>\n",
       "    </tr>\n",
       "    <tr>\n",
       "      <th>4</th>\n",
       "      <td>Peugeot</td>\n",
       "      <td>148429</td>\n",
       "      <td>100</td>\n",
       "      <td>diesel</td>\n",
       "      <td>silver</td>\n",
       "      <td>estate</td>\n",
       "      <td>False</td>\n",
       "      <td>True</td>\n",
       "      <td>False</td>\n",
       "      <td>False</td>\n",
       "      <td>False</td>\n",
       "      <td>True</td>\n",
       "      <td>True</td>\n",
       "      <td>102</td>\n",
       "    </tr>\n",
       "  </tbody>\n",
       "</table>\n",
       "</div>"
      ],
      "text/plain": [
       "  model_key  mileage  engine_power    fuel paint_color   car_type  \\\n",
       "0   Peugeot   162021            90  diesel       black     estate   \n",
       "1      Audi   153074           160  diesel       black      sedan   \n",
       "2   Peugeot   145497           235  petrol       black  hatchback   \n",
       "3   Peugeot    60772           100  diesel        grey     estate   \n",
       "4   Peugeot   148429           100  diesel      silver     estate   \n",
       "\n",
       "   private_parking_available  has_gps  has_air_conditioning  automatic_car  \\\n",
       "0                      False    False                 False          False   \n",
       "1                      False     True                 False          False   \n",
       "2                       True     True                  True           True   \n",
       "3                       True     True                 False          False   \n",
       "4                      False     True                 False          False   \n",
       "\n",
       "   has_getaround_connect  has_speed_regulator  winter_tires  \\\n",
       "0                  False                False          True   \n",
       "1                  False                False          True   \n",
       "2                   True                 True          True   \n",
       "3                  False                False          True   \n",
       "4                  False                 True          True   \n",
       "\n",
       "   rental_price_per_day  \n",
       "0                    62  \n",
       "1                   120  \n",
       "2                   147  \n",
       "3                   115  \n",
       "4                   102  "
      ]
     },
     "execution_count": 5,
     "metadata": {},
     "output_type": "execute_result"
    }
   ],
   "source": [
    "df= pd.read_csv('train_dataset.csv')\n",
    "df.head()"
   ]
  },
  {
   "cell_type": "code",
   "execution_count": 6,
   "metadata": {},
   "outputs": [
    {
     "name": "stdout",
     "output_type": "stream",
     "text": [
      "Separating labels from features...\n",
      "...Done.\n",
      "0     62\n",
      "1    120\n",
      "2    147\n",
      "3    115\n",
      "4    102\n",
      "Name: rental_price_per_day, dtype: int64\n",
      "\n",
      "  model_key  mileage  engine_power    fuel paint_color   car_type  \\\n",
      "0   Peugeot   162021            90  diesel       black     estate   \n",
      "1      Audi   153074           160  diesel       black      sedan   \n",
      "2   Peugeot   145497           235  petrol       black  hatchback   \n",
      "3   Peugeot    60772           100  diesel        grey     estate   \n",
      "4   Peugeot   148429           100  diesel      silver     estate   \n",
      "\n",
      "   private_parking_available  has_gps  has_air_conditioning  automatic_car  \\\n",
      "0                      False    False                 False          False   \n",
      "1                      False     True                 False          False   \n",
      "2                       True     True                  True           True   \n",
      "3                       True     True                 False          False   \n",
      "4                      False     True                 False          False   \n",
      "\n",
      "   has_getaround_connect  has_speed_regulator  winter_tires  \n",
      "0                  False                False          True  \n",
      "1                  False                False          True  \n",
      "2                   True                 True          True  \n",
      "3                  False                False          True  \n",
      "4                  False                 True          True  \n",
      "\n"
     ]
    }
   ],
   "source": [
    "# Separate target variable Y from features X\n",
    "target_name = 'rental_price_per_day'\n",
    "\n",
    "print(\"Separating labels from features...\")\n",
    "Y = df.loc[:,target_name]\n",
    "X = df.drop(target_name, axis = 1) # All columns are kept, except the target\n",
    "print(\"...Done.\")\n",
    "print(Y.head())\n",
    "print()\n",
    "print(X.head())\n",
    "print()\n"
   ]
  },
  {
   "cell_type": "code",
   "execution_count": 7,
   "metadata": {},
   "outputs": [
    {
     "name": "stdout",
     "output_type": "stream",
     "text": [
      "Found numeric features  ['mileage', 'engine_power']\n",
      "Found categorical features  ['model_key', 'fuel', 'paint_color', 'car_type', 'private_parking_available', 'has_gps', 'has_air_conditioning', 'automatic_car', 'has_getaround_connect', 'has_speed_regulator', 'winter_tires']\n"
     ]
    }
   ],
   "source": [
    "# Automatically detect names of numeric/categorical columns\n",
    "numeric_features = []\n",
    "categorical_features = []\n",
    "for i,t in X.dtypes.items():\n",
    "    if ('float' in str(t)) or ('int' in str(t)) :\n",
    "        numeric_features.append(i)\n",
    "    else :\n",
    "        categorical_features.append(i)\n",
    "\n",
    "print('Found numeric features ', numeric_features)\n",
    "print('Found categorical features ', categorical_features)"
   ]
  },
  {
   "cell_type": "code",
   "execution_count": 9,
   "metadata": {},
   "outputs": [
    {
     "name": "stdout",
     "output_type": "stream",
     "text": [
      "Dividing into train and test sets...\n",
      "...Done.\n",
      "\n"
     ]
    }
   ],
   "source": [
    "print(\"Dividing into train and test sets...\")\n",
    "X_train, X_test, Y_train, Y_test = train_test_split(X, Y, test_size=0.2, random_state=0)\n",
    "print(\"...Done.\")\n",
    "print()"
   ]
  },
  {
   "cell_type": "code",
   "execution_count": 11,
   "metadata": {},
   "outputs": [
    {
     "name": "stdout",
     "output_type": "stream",
     "text": [
      "Performing preprocessings on train set...\n",
      "       model_key  mileage  engine_power    fuel paint_color    car_type  \\\n",
      "2592     Citroën   221500           155  petrol        grey       coupe   \n",
      "3614  Mitsubishi   148480           155  diesel      silver         suv   \n",
      "322   Mitsubishi    95657           190  diesel      silver         suv   \n",
      "1560      Nissan   132448           135  diesel       black         suv   \n",
      "1225         BMW   190627            85  diesel       black  subcompact   \n",
      "\n",
      "      private_parking_available  has_gps  has_air_conditioning  automatic_car  \\\n",
      "2592                       True     True                  True          False   \n",
      "3614                       True     True                  True           True   \n",
      "322                        True     True                 False           True   \n",
      "1560                      False     True                 False          False   \n",
      "1225                      False     True                 False          False   \n",
      "\n",
      "      has_getaround_connect  has_speed_regulator  winter_tires  \n",
      "2592                   True                 True          True  \n",
      "3614                   True                False          True  \n",
      "322                   False                 True          True  \n",
      "1560                  False                 True          True  \n",
      "1225                  False                False          True  \n"
     ]
    },
    {
     "name": "stdout",
     "output_type": "stream",
     "text": [
      "...Done.\n",
      "  (0, 0)\t1.3377341433028123\n",
      "  (0, 1)\t0.6547007260248097\n",
      "  (0, 4)\t1.0\n",
      "  (0, 31)\t1.0\n",
      "  (0, 36)\t1.0\n",
      "  (0, 41)\t1.0\n",
      "  (0, 48)\t1.0\n",
      "  (0, 49)\t1.0\n",
      "  (0, 50)\t1.0\n",
      "  (0, 52)\t1.0\n",
      "  (0, 53)\t1.0\n",
      "  (0, 54)\t1.0\n",
      "  (1, 0)\t0.11285280139319316\n",
      "  (1, 1)\t0.6547007260248097\n",
      "  (1, 16)\t1.0\n",
      "  (1, 39)\t1.0\n",
      "  (1, 46)\t1.0\n",
      "  (1, 48)\t1.0\n",
      "  (1, 49)\t1.0\n",
      "  (1, 50)\t1.0\n",
      "  (1, 51)\t1.0\n",
      "  (1, 52)\t1.0\n",
      "  (1, 54)\t1.0\n",
      "  (2, 0)\t-0.7732319305116523\n",
      "  (2, 1)\t1.552678903165439\n",
      "  (2, 16)\t1.0\n",
      "  (2, 39)\t1.0\n",
      "  (2, 46)\t1.0\n",
      "  (2, 48)\t1.0\n",
      "  (2, 49)\t1.0\n",
      "  (2, 51)\t1.0\n",
      "  (2, 53)\t1.0\n",
      "  (2, 54)\t1.0\n",
      "  (3, 0)\t-0.15607759676477745\n",
      "  (3, 1)\t0.14157033908730707\n",
      "  (3, 17)\t1.0\n",
      "  (3, 32)\t1.0\n",
      "  (3, 46)\t1.0\n",
      "  (3, 49)\t1.0\n",
      "  (3, 53)\t1.0\n",
      "  (3, 54)\t1.0\n",
      "  (4, 0)\t0.8198518964009269\n",
      "  (4, 1)\t-1.1412556282564494\n",
      "  (4, 3)\t1.0\n",
      "  (4, 32)\t1.0\n",
      "  (4, 45)\t1.0\n",
      "  (4, 49)\t1.0\n",
      "  (4, 54)\t1.0\n",
      "\n",
      "Performing preprocessings on test set...\n",
      "     model_key  mileage  engine_power    fuel paint_color   car_type  \\\n",
      "3317   Peugeot   199074           100  diesel       black      sedan   \n",
      "3823       BMW    73086           135  diesel       black        suv   \n",
      "562        BMW   191642            85  diesel       black  hatchback   \n",
      "3687       BMW   174524            85  diesel        blue  hatchback   \n",
      "3344   Citroën   115366           135  diesel      silver     estate   \n",
      "\n",
      "      private_parking_available  has_gps  has_air_conditioning  automatic_car  \\\n",
      "3317                      False    False                 False          False   \n",
      "3823                      False    False                 False          False   \n",
      "562                       False     True                 False          False   \n",
      "3687                      False     True                 False          False   \n",
      "3344                      False     True                 False           True   \n",
      "\n",
      "      has_getaround_connect  has_speed_regulator  winter_tires  \n",
      "3317                  False                 True          True  \n",
      "3823                  False                False         False  \n",
      "562                    True                 True          True  \n",
      "3687                  False                False          True  \n",
      "3344                  False                False          True  \n",
      "...Done.\n",
      "  (0, 0)\t0.9615469483745034\n",
      "  (0, 1)\t-0.7564078380533225\n",
      "  (0, 20)\t1.0\n",
      "  (0, 32)\t1.0\n",
      "  (0, 44)\t1.0\n",
      "  (0, 53)\t1.0\n",
      "  (0, 54)\t1.0\n",
      "  (1, 0)\t-1.1518514425390696\n",
      "  (1, 1)\t0.14157033908730707\n",
      "  (1, 3)\t1.0\n",
      "  (1, 32)\t1.0\n",
      "  (1, 46)\t1.0\n",
      "  (2, 0)\t0.8368781160946857\n",
      "  (2, 1)\t-1.1412556282564494\n",
      "  (2, 3)\t1.0\n",
      "  (2, 32)\t1.0\n",
      "  (2, 43)\t1.0\n",
      "  (2, 49)\t1.0\n",
      "  (2, 52)\t1.0\n",
      "  (2, 53)\t1.0\n",
      "  (2, 54)\t1.0\n",
      "  (3, 0)\t0.5497305015944274\n",
      "  (3, 1)\t-1.1412556282564494\n",
      "  (3, 3)\t1.0\n",
      "  (3, 33)\t1.0\n",
      "  (3, 43)\t1.0\n",
      "  (3, 49)\t1.0\n",
      "  (3, 54)\t1.0\n",
      "  (4, 0)\t-0.4426213256404295\n",
      "  (4, 1)\t0.14157033908730707\n",
      "  (4, 4)\t1.0\n",
      "  (4, 39)\t1.0\n",
      "  (4, 42)\t1.0\n",
      "  (4, 49)\t1.0\n",
      "  (4, 51)\t1.0\n",
      "  (4, 54)\t1.0\n",
      "\n"
     ]
    }
   ],
   "source": [
    "#Pipeline\n",
    "numeric_transformer = Pipeline(steps=[('scaler', StandardScaler())])\n",
    "\n",
    "categorical_transformer = Pipeline(steps=[('encoder', OneHotEncoder(drop='first'))])\n",
    "\n",
    "preprocessor = ColumnTransformer(\n",
    "    transformers=[\n",
    "        ('num', numeric_transformer, numeric_features),\n",
    "        ('cat', categorical_transformer, categorical_features)\n",
    "    ])\n",
    "\n",
    "# Preprocessings on train set\n",
    "print(\"Performing preprocessings on train set...\")\n",
    "print(X_train.head())\n",
    "X_train = preprocessor.fit_transform(X_train)\n",
    "print('...Done.')\n",
    "print(X_train[0:5])\n",
    "print()\n",
    "\n",
    "# Preprocessings on test set\n",
    "print(\"Performing preprocessings on test set...\")\n",
    "print(X_test.head())\n",
    "X_test = preprocessor.transform(X_test)\n",
    "print('...Done.')\n",
    "print(X_test[0:5,:])\n",
    "print()\n",
    "\n"
   ]
  },
  {
   "cell_type": "code",
   "execution_count": 13,
   "metadata": {},
   "outputs": [
    {
     "name": "stdout",
     "output_type": "stream",
     "text": [
      "Training model...\n",
      "...Done.\n"
     ]
    }
   ],
   "source": [
    "# Train model \n",
    "model = RandomForestRegressor()\n",
    "\n",
    "print(\"Training model...\")\n",
    "model.fit(X_train, Y_train)\n",
    "print(\"...Done.\")"
   ]
  },
  {
   "cell_type": "code",
   "execution_count": 14,
   "metadata": {},
   "outputs": [],
   "source": [
    "Y_train_pred = model.predict(X_train)\n",
    "Y_test_pred = model.predict(X_test)"
   ]
  },
  {
   "cell_type": "code",
   "execution_count": 17,
   "metadata": {},
   "outputs": [
    {
     "name": "stdout",
     "output_type": "stream",
     "text": [
      "R2 score on training set :  0.9687632551271089\n",
      "R2 score on test set :  -0.6055560729067533\n"
     ]
    }
   ],
   "source": [
    "# Print R^2 scores, quand on a fait une prédiction\n",
    "print(\"R2 score on training set : \", r2_score(Y_train, Y_train_pred))\n",
    "print(\"R2 score on test set : \", r2_score(Y_test, Y_test_pred))"
   ]
  },
  {
   "cell_type": "code",
   "execution_count": 20,
   "metadata": {},
   "outputs": [
    {
     "name": "stdout",
     "output_type": "stream",
     "text": [
      "RMSE: 40.46012937328829\n"
     ]
    }
   ],
   "source": [
    "mse = mean_squared_error(Y_test, Y_test_pred)\n",
    "# Calculez la RMSE en prenant la racine carrée du MSE\n",
    "rmse = np.sqrt(mse)\n",
    "\n",
    "print(\"RMSE:\", rmse)"
   ]
  },
  {
   "cell_type": "markdown",
   "metadata": {},
   "source": [
    "cross validation"
   ]
  },
  {
   "cell_type": "code",
   "execution_count": 24,
   "metadata": {},
   "outputs": [
    {
     "name": "stdout",
     "output_type": "stream",
     "text": [
      "Scores R2 pour chaque cv : [0.78553928 0.75595335 0.75893568]\n",
      "Moyenne des scores R2 : 0.7668094347487173\n"
     ]
    }
   ],
   "source": [
    "model = RandomForestRegressor()\n",
    "\n",
    "# cross val\n",
    "scores = cross_val_score(model, X_train, Y_train, cv=3, scoring='r2')\n",
    "\n",
    "print(\"Scores R2 pour chaque cv :\", scores)\n",
    "\n",
    "# Affichez la moyenne des scores\n",
    "print(\"Moyenne des scores R2 :\", scores.mean())"
   ]
  },
  {
   "cell_type": "code",
   "execution_count": 25,
   "metadata": {},
   "outputs": [
    {
     "name": "stdout",
     "output_type": "stream",
     "text": [
      "Scores RMSE pour chaque cv : [14.61935117 15.5062888  15.82595711]\n",
      "Moyenne des scores RMSE : 15.317199024326536\n"
     ]
    }
   ],
   "source": [
    "model = RandomForestRegressor()\n",
    "\n",
    "# calcul rmse\n",
    "rmse_scorer = make_scorer(lambda y, y_pred: mean_squared_error(y, y_pred, squared=False), greater_is_better=False)\n",
    "\n",
    "# coss val\n",
    "scores = cross_val_score(model, X_train, Y_train, cv=3, scoring=rmse_scorer)\n",
    "\n",
    "abs_scores = abs(scores)\n",
    "\n",
    "print(\"Scores RMSE pour chaque cv :\", abs_scores)\n",
    "\n",
    "# Affichez la moyenne des scores RMSE\n",
    "print(\"Moyenne des scores RMSE :\", abs_scores.mean())"
   ]
  },
  {
   "cell_type": "markdown",
   "metadata": {},
   "source": [
    "Gridsearch"
   ]
  },
  {
   "cell_type": "code",
   "execution_count": 27,
   "metadata": {},
   "outputs": [
    {
     "name": "stdout",
     "output_type": "stream",
     "text": [
      "Tuned Random Forest Parameters: {'max_depth': 20, 'max_leaf_nodes': 10, 'n_estimators': 50}\n",
      "Best score is 0.6269109054546671\n",
      "Accuracy on training set :  0.6360572669284132\n",
      "Accuracy on test set :  -0.7370189356137276\n"
     ]
    }
   ],
   "source": [
    "param_grid = {\n",
    "    'n_estimators': [25, 50, 100, 150],\n",
    "    'max_depth': [None, 10, 20],\n",
    "    'max_leaf_nodes': [2, 5 ,10]} \n",
    "\n",
    "# Instantiating Decision Tree classifier\n",
    "forest = RandomForestRegressor()\n",
    "\n",
    "# Instantiating RandomizedSearchCV object\n",
    "forest_cv = GridSearchCV(forest,\n",
    "                           param_grid=param_grid)\n",
    "\n",
    "forest_cv.fit(X_train, Y_train)\n",
    "\n",
    "# Print the tuned parameters and score\n",
    "print(\"Tuned Random Forest Parameters: {}\".format(forest_cv.best_params_))\n",
    "print(\"Best score is {}\".format(forest_cv.best_score_))\n",
    "\n",
    "#Print Accuracy \n",
    "print(\"Accuracy on training set : \", forest_cv.score(X_train, Y_train))\n",
    "print(\"Accuracy on test set : \", forest_cv.score(X_test, Y_test))"
   ]
  },
  {
   "cell_type": "markdown",
   "metadata": {},
   "source": [
    "Le modèle random forest overfit."
   ]
  }
 ],
 "metadata": {
  "kernelspec": {
   "display_name": "Daigona",
   "language": "python",
   "name": "python3"
  },
  "language_info": {
   "codemirror_mode": {
    "name": "ipython",
    "version": 3
   },
   "file_extension": ".py",
   "mimetype": "text/x-python",
   "name": "python",
   "nbconvert_exporter": "python",
   "pygments_lexer": "ipython3",
   "version": "3.11.5"
  }
 },
 "nbformat": 4,
 "nbformat_minor": 2
}
